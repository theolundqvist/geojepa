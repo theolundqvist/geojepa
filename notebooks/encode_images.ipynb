{
 "cells": [
  {
   "cell_type": "code",
   "execution_count": 3,
   "id": "initial_id",
   "metadata": {
    "collapsed": true
   },
   "outputs": [
    {
     "name": "stderr",
     "output_type": "stream",
     "text": [
      "/opt/homebrew/anaconda3/envs/geojepa-ipynb/lib/python3.10/site-packages/timm/models/layers/__init__.py:48: FutureWarning: Importing from timm.models.layers is deprecated, please import via timm.layers\n",
      "  warnings.warn(f\"Importing from {__name__} is deprecated, please import via timm.layers\", FutureWarning)\n"
     ]
    }
   ],
   "source": [
    "%load_ext autoreload\n",
    "%autoreload 2\n",
    "import rootutils\n",
    "import os\n",
    "\n",
    "root = rootutils.setup_root(\n",
    "    os.path.abspath(\"\"), indicator=\".project-root\", pythonpath=True\n",
    ")\n",
    "\n",
    "import torch\n",
    "from src.modules.sat_img_encoder import SatImgEncoder\n",
    "\n",
    "\n",
    "encoder = SatImgEncoder(freeze=True)"
   ]
  },
  {
   "cell_type": "code",
   "execution_count": 9,
   "id": "203a3371",
   "metadata": {},
   "outputs": [
    {
     "name": "stdout",
     "output_type": "stream",
     "text": [
      "Found 27977 tile_groups\n",
      "Found 27977 tile_groups\n",
      "Found 27977 tile_groups\n"
     ]
    },
    {
     "name": "stderr",
     "output_type": "stream",
     "text": [
      "  0%|          | 0/875 [00:00<?, ?it/s]"
     ]
    },
    {
     "name": "stdout",
     "output_type": "stream",
     "text": [
      "torch.Size([32, 3, 224, 224])\n"
     ]
    },
    {
     "name": "stderr",
     "output_type": "stream",
     "text": [
      "  0%|          | 1/875 [00:04<1:06:10,  4.54s/it]"
     ]
    },
    {
     "name": "stdout",
     "output_type": "stream",
     "text": [
      "Time: 137.89112865924835 ms per image\n",
      "torch.Size([32, 1024])\n",
      "torch.Size([32, 196, 1024])\n",
      "1 features without min_box\n"
     ]
    },
    {
     "name": "stderr",
     "output_type": "stream",
     "text": [
      "\n"
     ]
    }
   ],
   "source": [
    "%autoreload 2\n",
    "from tqdm import tqdm\n",
    "from time import time\n",
    "from src.data.tiles_datamodule import TilesDataModule\n",
    "\n",
    "dataset = TilesDataModule(tile_dir=\"../data/tiles/sthlm/processed\", num_workers=0)\n",
    "dataset.setup()\n",
    "loader = dataset.val_dataloader()\n",
    "\n",
    "\n",
    "images = []\n",
    "embs = []\n",
    "i = 0\n",
    "for batch in tqdm(loader):\n",
    "    if i > 5:\n",
    "        break\n",
    "    i += 1\n",
    "    print(batch.SAT_imgs.shape)\n",
    "    start = time()\n",
    "    cls, patches = encoder(batch.SAT_imgs)\n",
    "    print(f\"Time: {(time() - start) * 1e3 / 32} ms per image\")\n",
    "    for i, token in enumerate(cls):\n",
    "        embs.append(token)\n",
    "        images.append(batch.SAT_imgs[i])\n",
    "    print(cls.shape)\n",
    "    print(patches.shape)"
   ]
  },
  {
   "cell_type": "code",
   "execution_count": 10,
   "id": "348d1ec3",
   "metadata": {},
   "outputs": [
    {
     "name": "stderr",
     "output_type": "stream",
     "text": [
      "/opt/homebrew/anaconda3/envs/geojepa-ipynb/lib/python3.10/site-packages/umap/umap_.py:1945: UserWarning: n_jobs value 1 overridden to 1 by setting random_state. Use no seed for parallelism.\n",
      "  warn(f\"n_jobs value {self.n_jobs} overridden to 1 by setting random_state. Use no seed for parallelism.\")\n"
     ]
    }
   ],
   "source": [
    "# Apply UMAP to reduce to 2D\n",
    "import umap.umap_ as umap\n",
    "\n",
    "umap_model = umap.UMAP(n_components=2, random_state=42, n_neighbors=10)\n",
    "umap_results = umap_model.fit_transform(embs)\n",
    "\n",
    "# Add UMAP results to DataFrame"
   ]
  },
  {
   "cell_type": "code",
   "execution_count": 13,
   "id": "4fa5e642",
   "metadata": {},
   "outputs": [
    {
     "data": {
      "text/html": [
       "\n",
       "        <iframe\n",
       "            width=\"100%\"\n",
       "            height=\"650\"\n",
       "            src=\"http://127.0.0.1:8050/\"\n",
       "            frameborder=\"0\"\n",
       "            allowfullscreen\n",
       "            \n",
       "        ></iframe>\n",
       "        "
      ],
      "text/plain": [
       "<IPython.lib.display.IFrame at 0x38ada5420>"
      ]
     },
     "metadata": {},
     "output_type": "display_data"
    }
   ],
   "source": [
    "import base64\n",
    "import pandas as pd\n",
    "from io import BytesIO\n",
    "\n",
    "from dash import dcc, html, Input, Output, no_update, Dash\n",
    "import plotly.graph_objects as go\n",
    "\n",
    "from tqdm import tqdm\n",
    "import torchvision.transforms as transforms\n",
    "\n",
    "\n",
    "df = pd.DataFrame()\n",
    "df[\"umap-2d-one\"] = umap_results[:, 0]\n",
    "df[\"umap-2d-two\"] = umap_results[:, 1]\n",
    "\n",
    "\n",
    "# Create the scatter plot\n",
    "fig = go.Figure()\n",
    "fig.add_trace(\n",
    "    go.Scatter(\n",
    "        x=df[\"umap-2d-one\"],\n",
    "        y=df[\"umap-2d-two\"],\n",
    "        mode=\"markers\",\n",
    "        marker=dict(size=10),\n",
    "    )\n",
    ")\n",
    "\n",
    "\n",
    "def create_geometry_image(image: torch.Tensor):\n",
    "    to_pil = transforms.ToPILImage()\n",
    "    img = to_pil(image)\n",
    "\n",
    "    # Save image to a BytesIO object\n",
    "    buffered = BytesIO()\n",
    "    img.save(buffered, format=\"PNG\")\n",
    "\n",
    "    # Encode image to Base64\n",
    "    img_base64 = base64.b64encode(buffered.getvalue()).decode(\"utf-8\")\n",
    "    return f\"data:image/png;base64,{img_base64}\"\n",
    "\n",
    "\n",
    "# Initialize the Dash app\n",
    "app = Dash(__name__)\n",
    "\n",
    "# Define the layout of the app\n",
    "app.layout = html.Div(\n",
    "    className=\"container\",\n",
    "    children=[\n",
    "        dcc.Graph(id=\"graph-5\", figure=fig, clear_on_unhover=True),\n",
    "        dcc.Tooltip(id=\"graph-tooltip-5\", direction=\"bottom\"),\n",
    "    ],\n",
    ")\n",
    "\n",
    "\n",
    "# Update the hover display function to use the new images\n",
    "@app.callback(\n",
    "    Output(\"graph-tooltip-5\", \"show\"),\n",
    "    Output(\"graph-tooltip-5\", \"bbox\"),\n",
    "    Output(\"graph-tooltip-5\", \"children\"),\n",
    "    Input(\"graph-5\", \"hoverData\"),\n",
    ")\n",
    "def display_hover(hoverData):\n",
    "    if hoverData is None:\n",
    "        return False, no_update, no_update\n",
    "\n",
    "    hover_data = hoverData[\"points\"][0]\n",
    "    bbox = hover_data[\"bbox\"]\n",
    "    num = hover_data[\"pointNumber\"]\n",
    "\n",
    "    children = [\n",
    "        html.Div(\n",
    "            [\n",
    "                # html.P(\"Label: \" + ftostr(labels[num]) + f\", {len(labels[num].points)} points\", style={\"font-weight\": \"bold\"}),\n",
    "                html.Img(\n",
    "                    src=create_geometry_image(\n",
    "                        images[num]\n",
    "                    ),  # Use the image generated for hover\n",
    "                    style={\n",
    "                        \"width\": \"100px\",\n",
    "                        \"height\": \"100px\",\n",
    "                        \"display\": \"block\",\n",
    "                        \"margin\": \"0 auto\",\n",
    "                    },\n",
    "                ),\n",
    "            ]\n",
    "        )\n",
    "    ]\n",
    "\n",
    "    return True, bbox, children\n",
    "\n",
    "\n",
    "# Run the app\n",
    "if __name__ == \"__main__\":\n",
    "    app.run_server(mode=\"inline\", debug=False)"
   ]
  },
  {
   "cell_type": "code",
   "execution_count": null,
   "id": "9e0ed53e",
   "metadata": {},
   "outputs": [],
   "source": [
    "# create embeddings for all images in dataset."
   ]
  }
 ],
 "metadata": {
  "kernelspec": {
   "display_name": "geojepa-ipynb",
   "language": "python",
   "name": "python3"
  },
  "language_info": {
   "codemirror_mode": {
    "name": "ipython",
    "version": 3
   },
   "file_extension": ".py",
   "mimetype": "text/x-python",
   "name": "python",
   "nbconvert_exporter": "python",
   "pygments_lexer": "ipython3",
   "version": "3.10.15"
  }
 },
 "nbformat": 4,
 "nbformat_minor": 5
}
