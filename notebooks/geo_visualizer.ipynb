{
 "cells": [
  {
   "cell_type": "code",
   "execution_count": 1,
   "id": "initial_id",
   "metadata": {
    "collapsed": true
   },
   "outputs": [
    {
     "name": "stderr",
     "output_type": "stream",
     "text": [
      "/opt/homebrew/anaconda3/envs/geojepa-ipynb-2.4/lib/python3.10/site-packages/torch_geometric/typing.py:68: UserWarning: An issue occurred while importing 'pyg-lib'. Disabling its usage. Stacktrace: dlopen(/opt/homebrew/anaconda3/envs/geojepa-ipynb-2.4/lib/python3.10/site-packages/libpyg.so, 0x0006): Library not loaded: /Library/Frameworks/Python.framework/Versions/3.10/Python\n",
      "  Referenced from: <0F9D4B2E-DD75-3BAC-BD55-6FA98E65FDBD> /opt/homebrew/anaconda3/envs/geojepa-ipynb-2.4/lib/python3.10/site-packages/libpyg.so\n",
      "  Reason: tried: '/Library/Frameworks/Python.framework/Versions/3.10/Python' (no such file), '/System/Volumes/Preboot/Cryptexes/OS/Library/Frameworks/Python.framework/Versions/3.10/Python' (no such file), '/Library/Frameworks/Python.framework/Versions/3.10/Python' (no such file), '/opt/homebrew/anaconda3/envs/geojepa/lib/python3.10/Python' (no such file), '/System/Volumes/Preboot/Cryptexes/OS/opt/homebrew/anaconda3/envs/geojepa/lib/python3.10/Python' (no such file), '/opt/homebrew/anaconda3/envs/geojepa/lib/python3.10/Python' (no such file)\n",
      "  warnings.warn(f\"An issue occurred while importing 'pyg-lib'. \"\n",
      "/Users/theo/Documents/courses/current/master-thesis/geojepa/src/modules/geometry_encoder.py:244: FutureWarning: You are using `torch.load` with `weights_only=False` (the current default value), which uses the default pickle module implicitly. It is possible to construct malicious pickle data which will execute arbitrary code during unpickling (See https://github.com/pytorch/pytorch/blob/main/SECURITY.md#untrusted-models for more details). In a future release, the default value for `weights_only` will be flipped to `True`. This limits the functions that could be executed during unpickling. Arbitrary objects will no longer be allowed to be loaded via this mode unless they are explicitly allowlisted by the user via `torch.serialization.add_safe_globals`. We recommend you start setting `weights_only=True` for any use case where you don't have full control of the loaded file. Please open an issue on GitHub for any issues related to this experimental feature.\n",
      "  saved_dict = torch.load(\n"
     ]
    }
   ],
   "source": [
    "%load_ext autoreload\n",
    "%autoreload 2\n",
    "import rootutils\n",
    "import os\n",
    "\n",
    "root = rootutils.setup_root(\n",
    "    os.path.abspath(\"\"), indicator=\".project-root\", pythonpath=True\n",
    ")\n",
    "\n",
    "import torch\n",
    "from src.modules.geometry_encoder import (\n",
    "    load_geometry_encoder_pretrained,\n",
    ")\n",
    "from src.data.tiles_datamodule import TilesDataModule\n",
    "\n",
    "model = load_geometry_encoder_pretrained(\n",
    "    root / \"src/models/pretrained/polygnn-ckpt-oct-01\", torch.device(\"cpu\")\n",
    ")"
   ]
  },
  {
   "cell_type": "code",
   "execution_count": 9,
   "id": "203a3371",
   "metadata": {},
   "outputs": [
    {
     "name": "stdout",
     "output_type": "stream",
     "text": [
      "Found 27595 tile_groups\n",
      "Found 27595 tile_groups\n",
      "Found 27595 tile_groups\n"
     ]
    },
    {
     "name": "stderr",
     "output_type": "stream",
     "text": [
      "  0%|          | 1/863 [00:00<02:52,  5.00it/s]"
     ]
    },
    {
     "name": "stdout",
     "output_type": "stream",
     "text": [
      "622\n"
     ]
    },
    {
     "name": "stderr",
     "output_type": "stream",
     "text": [
      "  0%|          | 2/863 [00:00<05:27,  2.63it/s]"
     ]
    },
    {
     "name": "stdout",
     "output_type": "stream",
     "text": [
      "3139\n"
     ]
    },
    {
     "name": "stderr",
     "output_type": "stream",
     "text": [
      "  0%|          | 3/863 [00:01<07:02,  2.04it/s]"
     ]
    },
    {
     "name": "stdout",
     "output_type": "stream",
     "text": [
      "5493\n"
     ]
    },
    {
     "name": "stderr",
     "output_type": "stream",
     "text": [
      "  1%|          | 5/863 [00:02<05:46,  2.47it/s]"
     ]
    },
    {
     "name": "stdout",
     "output_type": "stream",
     "text": [
      "6871\n",
      "7377\n",
      "len(tiles) > 16, (20)\n"
     ]
    },
    {
     "name": "stderr",
     "output_type": "stream",
     "text": [
      "  1%|          | 6/863 [00:02<05:51,  2.44it/s]"
     ]
    },
    {
     "name": "stdout",
     "output_type": "stream",
     "text": [
      "9032\n"
     ]
    },
    {
     "name": "stderr",
     "output_type": "stream",
     "text": [
      "  1%|          | 7/863 [00:02<05:55,  2.41it/s]"
     ]
    },
    {
     "name": "stdout",
     "output_type": "stream",
     "text": [
      "10545\n"
     ]
    },
    {
     "name": "stderr",
     "output_type": "stream",
     "text": [
      "\n"
     ]
    }
   ],
   "source": [
    "from tqdm import tqdm\n",
    "from src.modules.tokenizer import split_feat_embs_to_batch\n",
    "\n",
    "dataset = TilesDataModule(tile_dir=\"../data/tiles/sthlm/processed\", num_workers=0)\n",
    "dataset.setup()\n",
    "loader = dataset.val_dataloader()\n",
    "from src.data.components.tiles import Feature\n",
    "\n",
    "\n",
    "def ftostr(feat: Feature):\n",
    "    if feat.is_point:\n",
    "        return \"point\"\n",
    "    elif feat.is_line:\n",
    "        return \"line\"\n",
    "    elif feat.is_polygon:\n",
    "        return \"polygon\"\n",
    "    elif feat.is_relation_part:\n",
    "        return \"relation\"\n",
    "    else:\n",
    "        return \"UNK\"\n",
    "\n",
    "\n",
    "features = []\n",
    "labels = []\n",
    "model.eval()\n",
    "max_features = 10000\n",
    "with torch.no_grad():\n",
    "    for batch in tqdm(loader):\n",
    "        if len(features) >= max_features:\n",
    "            break\n",
    "        emb = model(\n",
    "            batch.nodes, batch.intra_edges, batch.inter_edges, batch.node_to_feature\n",
    "        )\n",
    "        feature_embs = split_feat_embs_to_batch(emb, batch)\n",
    "        offset = 0\n",
    "        for tid, tile in enumerate(feature_embs):\n",
    "            tile_feats = batch.tiles[tid].features\n",
    "            for fid, f in enumerate(tile):\n",
    "                if fid >= len(tile_feats):\n",
    "                    continue\n",
    "                features.append(f)\n",
    "                labels.append(tile_feats[fid])\n",
    "            offset += batch.feature_counts[tid]\n",
    "        print(len(features))"
   ]
  },
  {
   "cell_type": "code",
   "execution_count": 11,
   "id": "348d1ec3",
   "metadata": {},
   "outputs": [
    {
     "name": "stderr",
     "output_type": "stream",
     "text": [
      "/opt/homebrew/anaconda3/envs/geojepa-ipynb-2.4/lib/python3.10/site-packages/umap/umap_.py:1952: UserWarning: n_jobs value 1 overridden to 1 by setting random_state. Use no seed for parallelism.\n",
      "  warn(\n",
      "OMP: Info #276: omp_set_nested routine deprecated, please use omp_set_max_active_levels instead.\n",
      "/opt/homebrew/anaconda3/envs/geojepa-ipynb-2.4/lib/python3.10/site-packages/sklearn/manifold/_spectral_embedding.py:329: UserWarning: Graph is not fully connected, spectral embedding may not work as expected.\n",
      "  warnings.warn(\n"
     ]
    }
   ],
   "source": [
    "# Apply UMAP to reduce to 2D\n",
    "import umap.umap_ as umap\n",
    "\n",
    "umap_model = umap.UMAP(n_components=2, random_state=42, n_neighbors=15)\n",
    "umap_results = umap_model.fit_transform(features)\n",
    "\n",
    "# Add UMAP results to DataFrame"
   ]
  },
  {
   "cell_type": "code",
   "execution_count": 13,
   "id": "4fa5e642",
   "metadata": {},
   "outputs": [
    {
     "data": {
      "text/html": [
       "\n",
       "        <iframe\n",
       "            width=\"100%\"\n",
       "            height=\"650\"\n",
       "            src=\"http://127.0.0.1:8050/\"\n",
       "            frameborder=\"0\"\n",
       "            allowfullscreen\n",
       "            \n",
       "        ></iframe>\n",
       "        "
      ],
      "text/plain": [
       "<IPython.lib.display.IFrame at 0x34109d030>"
      ]
     },
     "metadata": {},
     "output_type": "display_data"
    }
   ],
   "source": [
    "import base64\n",
    "import pandas as pd\n",
    "import matplotlib.pyplot as plt\n",
    "from io import BytesIO\n",
    "\n",
    "from dash import Dash\n",
    "from dash import dcc, html, Input, Output, no_update\n",
    "import plotly.graph_objects as go\n",
    "\n",
    "from tqdm import tqdm\n",
    "\n",
    "\n",
    "df = pd.DataFrame()\n",
    "df[\"umap-2d-one\"] = umap_results[:, 0]\n",
    "df[\"umap-2d-two\"] = umap_results[:, 1]\n",
    "\n",
    "\n",
    "def ftocolor(feat):\n",
    "    tc = 0\n",
    "    if feat.is_line:\n",
    "        tc = 10\n",
    "    elif feat.is_polygon:\n",
    "        tc = 20\n",
    "    elif feat.is_relation_part:\n",
    "        tc = 30\n",
    "    return len(feat.points) + tc\n",
    "\n",
    "\n",
    "df[\"colors\"] = [ftocolor(label) for label in labels]\n",
    "\n",
    "\n",
    "# Create the scatter plot\n",
    "fig = go.Figure()\n",
    "fig.add_trace(\n",
    "    go.Scatter(\n",
    "        x=df[\"umap-2d-one\"],\n",
    "        y=df[\"umap-2d-two\"],\n",
    "        mode=\"markers\",\n",
    "        marker=dict(size=10, color=df.colors),\n",
    "    )\n",
    ")\n",
    "\n",
    "\n",
    "def create_geometry_image(feature):\n",
    "    fig, ax = plt.subplots()\n",
    "    coords = feature.points\n",
    "\n",
    "    if feature.is_polygon:\n",
    "        polygon = plt.Polygon(coords, closed=True, fill=True, color=\"lightblue\")\n",
    "        ax.add_patch(polygon)\n",
    "    elif feature.is_line:\n",
    "        x, y = zip(*coords)\n",
    "        ax.plot(x, y, color=\"blue\", linewidth=2)\n",
    "    elif feature.is_relation_part:\n",
    "        x, y = zip(*coords)\n",
    "        ax.plot(x, y, color=\"blue\")\n",
    "\n",
    "    ax.set_aspect(\"equal\")\n",
    "    ax.set_xlim(-1, 1)\n",
    "    ax.set_ylim(-1, 1)\n",
    "    ax.axis(\"off\")  # Hide axes\n",
    "\n",
    "    # Save to a bytes buffer\n",
    "    buf = BytesIO()\n",
    "    plt.savefig(buf, format=\"png\", bbox_inches=\"tight\", pad_inches=0)\n",
    "    plt.close(fig)\n",
    "    buf.seek(0)\n",
    "    img_str = base64.b64encode(buf.read()).decode(\"utf-8\")\n",
    "    return f\"data:image/png;base64,{img_str}\"\n",
    "\n",
    "\n",
    "# Initialize the Dash app\n",
    "app = Dash(__name__)\n",
    "\n",
    "# Define the layout of the app\n",
    "app.layout = html.Div(\n",
    "    className=\"container\",\n",
    "    children=[\n",
    "        dcc.Graph(id=\"graph-5\", figure=fig, clear_on_unhover=True),\n",
    "        dcc.Tooltip(id=\"graph-tooltip-5\", direction=\"bottom\"),\n",
    "    ],\n",
    ")\n",
    "\n",
    "\n",
    "# Update the hover display function to use the new images\n",
    "@app.callback(\n",
    "    Output(\"graph-tooltip-5\", \"show\"),\n",
    "    Output(\"graph-tooltip-5\", \"bbox\"),\n",
    "    Output(\"graph-tooltip-5\", \"children\"),\n",
    "    Input(\"graph-5\", \"hoverData\"),\n",
    ")\n",
    "def display_hover(hoverData):\n",
    "    if hoverData is None:\n",
    "        return False, no_update, no_update\n",
    "\n",
    "    hover_data = hoverData[\"points\"][0]\n",
    "    bbox = hover_data[\"bbox\"]\n",
    "    num = hover_data[\"pointNumber\"]\n",
    "\n",
    "    children = [\n",
    "        html.Div(\n",
    "            [\n",
    "                html.P(\n",
    "                    \"Label: \"\n",
    "                    + ftostr(labels[num])\n",
    "                    + f\", {len(labels[num].points)} points\",\n",
    "                    style={\"font-weight\": \"bold\"},\n",
    "                ),\n",
    "                html.Img(\n",
    "                    src=create_geometry_image(\n",
    "                        labels[num]\n",
    "                    ),  # Use the image generated for hover\n",
    "                    style={\n",
    "                        \"width\": \"100px\",\n",
    "                        \"height\": \"100px\",\n",
    "                        \"display\": \"block\",\n",
    "                        \"margin\": \"0 auto\",\n",
    "                    },\n",
    "                ),\n",
    "            ]\n",
    "        )\n",
    "    ]\n",
    "\n",
    "    return True, bbox, children\n",
    "\n",
    "\n",
    "# Run the app\n",
    "if __name__ == \"__main__\":\n",
    "    app.run_server(mode=\"inline\", debug=False)"
   ]
  }
 ],
 "metadata": {
  "kernelspec": {
   "display_name": "geojepa-ipynb-2.4",
   "language": "python",
   "name": "python3"
  },
  "language_info": {
   "codemirror_mode": {
    "name": "ipython",
    "version": 3
   },
   "file_extension": ".py",
   "mimetype": "text/x-python",
   "name": "python",
   "nbconvert_exporter": "python",
   "pygments_lexer": "ipython3",
   "version": "3.10.15"
  }
 },
 "nbformat": 4,
 "nbformat_minor": 5
}
