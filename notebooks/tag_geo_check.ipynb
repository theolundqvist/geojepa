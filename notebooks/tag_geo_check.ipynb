{
 "cells": [
  {
   "cell_type": "code",
   "execution_count": 4,
   "metadata": {},
   "outputs": [
    {
     "name": "stdout",
     "output_type": "stream",
     "text": [
      "The autoreload extension is already loaded. To reload it, use:\n",
      "  %reload_ext autoreload\n"
     ]
    }
   ],
   "source": [
    "%load_ext autoreload\n",
    "%autoreload 2\n",
    "import rootutils\n",
    "import os\n",
    "from pathlib import Path\n",
    "\n",
    "root = rootutils.setup_root(\n",
    "    os.path.abspath(\"\"), indicator=\".project-root\", pythonpath=True\n",
    ")\n",
    "\n",
    "import time\n",
    "\n",
    "import src.data.components.processed_tile_group_pb2 as pbf\n",
    "import pandas as pd\n",
    "import plotly.express as px\n",
    "import umap.umap_ as umap\n",
    "from src.modules.tag_encoder import TagEncoder\n",
    "from src.data.tiles_datamodule import TilesDataModule"
   ]
  },
  {
   "cell_type": "code",
   "execution_count": 5,
   "metadata": {},
   "outputs": [
    {
     "name": "stdout",
     "output_type": "stream",
     "text": [
      "/Users/theo/Documents/courses/current/master-thesis/geojepa/notebooks\n"
     ]
    }
   ],
   "source": [
    "tile_group = pbf.TileGroup()\n",
    "working_dir = os.getcwd()\n",
    "print(os.getcwd())\n",
    "with open(root / Path(\"data/tiles/sthlm/processed/14_9006_11577.pbf\"), \"rb\") as f:\n",
    "    tile_group.ParseFromString(f.read())"
   ]
  },
  {
   "cell_type": "code",
   "execution_count": 6,
   "metadata": {},
   "outputs": [
    {
     "name": "stdout",
     "output_type": "stream",
     "text": [
      "Time to load encoder: 0.5928351879119873 s\n"
     ]
    }
   ],
   "source": [
    "start = time.time()\n",
    "encoder = TagEncoder(embedding_file=root / Path(\"data/tiles/embeddings.pkl\"))\n",
    "print(f\"Time to load encoder: {time.time() - start} s\")"
   ]
  },
  {
   "cell_type": "code",
   "execution_count": 27,
   "metadata": {},
   "outputs": [
    {
     "name": "stdout",
     "output_type": "stream",
     "text": [
      "tensor([   0,    1,    2,  ..., 1003, 1004, 1005])\n",
      "BATCH 0\n",
      "NBR_FEAT: 1006\n",
      "TAGS: torch.Size([32, 252, 1024])\n",
      "GEOS: torch.Size([1006, 2048])\n",
      "torch.Size([1006]) tensor(1005)\n",
      "Time:  447.49999046325684 ms\n",
      "Time:  13.984374701976776 ms per tile\n",
      "Tiles:  32\n"
     ]
    }
   ],
   "source": [
    "\n",
    "%autoreload 2\n",
    "from src.modules.tag_encoder import TagEncoder\n",
    "from src.modules.geometry_encoder import GeometryEncoder\n",
    "\n",
    "dataset = TilesDataModule(root / Path(\"data/tiles/sthlm/processed\"), num_workers=0)\n",
    "dataset.setup()\n",
    "loader = dataset.test_dataloader()\n",
    "tiles = 0\n",
    "\n",
    "encoder = TagEncoder(embedding_file=root / Path(\"data/tiles/embeddings.pkl\"))\n",
    "\n",
    "geo_encoder = GeometryEncoder()\n",
    "\n",
    "start_time = time.time()\n",
    "for i, batch in enumerate(loader):\n",
    "    print(\"BATCH\", i)\n",
    "    tiles += batch.size\n",
    "    embs, strings = encoder(batch.tags)\n",
    "    print(\"NBR_FEAT:\", batch.nbr_features)\n",
    "    print(\"TAGS:\", embs.shape)\n",
    "    geo_embs = geo_encoder(\n",
    "        batch.nodes, batch.intra_edges, batch.inter_edges, batch.node_to_feature\n",
    "    )\n",
    "    print(\"GEOS:\", geo_embs.shape)\n",
    "    break\n",
    "\n",
    "end_time = time.time()\n",
    "print(\"Time: \", (end_time - start_time) * 1e3, \"ms\")\n",
    "print(\"Time: \", (end_time - start_time) * 1e3 / tiles, \"ms per tile\")\n",
    "print(\"Tiles: \", tiles)\n",
    "\n",
    "\n",
    "def flatten(matrix):\n",
    "    return [item for row in matrix for item in row]"
   ]
  },
  {
   "cell_type": "code",
   "execution_count": 5,
   "metadata": {},
   "outputs": [
    {
     "name": "stderr",
     "output_type": "stream",
     "text": [
      "/opt/homebrew/anaconda3/envs/geojepa-ipynb/lib/python3.10/site-packages/umap/umap_.py:1945: UserWarning: n_jobs value 1 overridden to 1 by setting random_state. Use no seed for parallelism.\n",
      "  warn(f\"n_jobs value {self.n_jobs} overridden to 1 by setting random_state. Use no seed for parallelism.\")\n"
     ]
    }
   ],
   "source": [
    "# df = pd.DataFrame(np.nan, index=range(len(embeddings_array)), columns=range(3))\n",
    "df = pd.DataFrame({\"matching_string\": tag_strings})\n",
    "# Apply UMAP to reduce to 2D\n",
    "umap_model = umap.UMAP(n_components=2, random_state=42, n_neighbors=60)\n",
    "umap_results = umap_model.fit_transform(tag_embeddings)\n",
    "\n",
    "# Add UMAP results to DataFrame\n",
    "df[\"umap-2d-one\"] = umap_results[:, 0]\n",
    "df[\"umap-2d-two\"] = umap_results[:, 1]\n",
    "\n",
    "# Create an interactive Plotly scatter plot\n",
    "fig = px.scatter(df, x=\"umap-2d-one\", y=\"umap-2d-two\", hover_name=\"matching_string\")\n",
    "\n",
    "fig.write_html(\"plots/\" + \"features-speed\" + \".html\")"
   ]
  },
  {
   "cell_type": "code",
   "execution_count": 6,
   "metadata": {},
   "outputs": [
    {
     "ename": "ModuleNotFoundError",
     "evalue": "No module named 'src.datasets'",
     "output_type": "error",
     "traceback": [
      "\u001b[0;31m---------------------------------------------------------------------------\u001b[0m",
      "\u001b[0;31mModuleNotFoundError\u001b[0m                       Traceback (most recent call last)",
      "Cell \u001b[0;32mIn[6], line 2\u001b[0m\n\u001b[1;32m      1\u001b[0m get_ipython()\u001b[38;5;241m.\u001b[39mrun_line_magic(\u001b[38;5;124m'\u001b[39m\u001b[38;5;124mautoreload\u001b[39m\u001b[38;5;124m'\u001b[39m, \u001b[38;5;124m'\u001b[39m\u001b[38;5;124m2\u001b[39m\u001b[38;5;124m'\u001b[39m)\n\u001b[0;32m----> 2\u001b[0m \u001b[38;5;28;01mfrom\u001b[39;00m \u001b[38;5;21;01msrc\u001b[39;00m\u001b[38;5;21;01m.\u001b[39;00m\u001b[38;5;21;01mdatasets\u001b[39;00m\u001b[38;5;21;01m.\u001b[39;00m\u001b[38;5;21;01mtiles\u001b[39;00m \u001b[38;5;28;01mimport\u001b[39;00m TilesDataModule\n\u001b[1;32m      4\u001b[0m dataset \u001b[38;5;241m=\u001b[39m TilesDataModule(\u001b[38;5;124m\"\u001b[39m\u001b[38;5;124m../../../osm_pipeline/tiles/sthlm/processed\u001b[39m\u001b[38;5;124m\"\u001b[39m, num_workers\u001b[38;5;241m=\u001b[39m\u001b[38;5;241m0\u001b[39m)\n\u001b[1;32m      5\u001b[0m dataset\u001b[38;5;241m.\u001b[39msetup()\n",
      "\u001b[0;31mModuleNotFoundError\u001b[0m: No module named 'src.datasets'"
     ]
    }
   ],
   "source": [
    "%autoreload 2\n",
    "from src.datasets.tiles import TilesDataModule\n",
    "\n",
    "dataset = TilesDataModule(\"../../../osm_pipeline/tiles/sthlm/processed\", num_workers=0)\n",
    "dataset.setup()"
   ]
  },
  {
   "cell_type": "code",
   "execution_count": null,
   "metadata": {},
   "outputs": [],
   "source": [
    "# df = pd.DataFrame(np.nan, index=range(len(embeddings_array)), columns=range(3))\n",
    "# Apply UMAP to reduce to 2D\n",
    "umap_model = umap.UMAP(n_components=2, random_state=42)\n",
    "\n",
    "loader = dataset.train_dataloader()\n",
    "tag_embeddings = []\n",
    "tag_strings = []\n",
    "for i, batch in enumerate(loader):\n",
    "    embs, strings = encoder(batch.tags)\n",
    "    for j, s in enumerate(strings):\n",
    "        tag_strings.append(s)\n",
    "        tag_embeddings.append(embs[j].numpy())\n",
    "\n",
    "umap_results = umap_model.fit_transform(tag_embeddings)\n",
    "\n",
    "df = pd.DataFrame({\"matching_string\": tag_strings})\n",
    "# Add UMAP results to DataFrame\n",
    "df[\"umap-2d-one\"] = umap_results[:, 0]\n",
    "df[\"umap-2d-two\"] = umap_results[:, 1]\n",
    "\n",
    "# Create an interactive Plotly scatter plot\n",
    "fig = px.scatter(df, x=\"umap-2d-one\", y=\"umap-2d-two\", hover_name=\"matching_string\")\n",
    "\n",
    "fig.write_html(\"plots/\" + \"tiles\" + \".html\")"
   ]
  }
 ],
 "metadata": {
  "kernelspec": {
   "display_name": "geojepa-ipynb",
   "language": "python",
   "name": "python3"
  },
  "language_info": {
   "codemirror_mode": {
    "name": "ipython",
    "version": 3
   },
   "file_extension": ".py",
   "mimetype": "text/x-python",
   "name": "python",
   "nbconvert_exporter": "python",
   "pygments_lexer": "ipython3",
   "version": "3.10.15"
  }
 },
 "nbformat": 4,
 "nbformat_minor": 2
}
